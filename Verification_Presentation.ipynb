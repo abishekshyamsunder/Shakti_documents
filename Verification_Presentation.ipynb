{
 "cells": [
  {
   "cell_type": "markdown",
   "metadata": {
    "slideshow": {
     "slide_type": "slide"
    }
   },
   "source": [
    "# Using AI/ML to aid in verification\n",
    "### Pilot - Abishek Shyamsunder"
   ]
  },
  {
   "cell_type": "markdown",
   "metadata": {
    "slideshow": {
     "slide_type": "subslide"
    }
   },
   "source": [
    "# Contents  \n",
    "| S.no | Contents                                           |\n",
    "|------|----------------------------------------------------|\n",
    "| 1    | Problem areas Identified                           |\n",
    "| 2    | Current Implementations and corresponding problems |\n",
    "| 3    | Innovations to try                                 |\n",
    "| 4    | Scope and Limitations                              |"
   ]
  },
  {
   "cell_type": "markdown",
   "metadata": {
    "slideshow": {
     "slide_type": "subslide"
    }
   },
   "source": [
    "### Problem areas Identified\n",
    "___  \n",
    "\n",
    "## Areas that require Intervention of AI/ML  \n",
    "1. Generating code that covers extensive area of the search space (In search of errors)  \n",
    "    - Best case scenario requires 100% of the code to be tested. \n",
    "    - All possible instructions\n",
    "    - All possible combination of instructions (Order in which instructions are executed)\n",
    "2. Identification of code that throws errors and generates code that either magnifies the error or at minimnum maintains the same percentage of error.  \n"
   ]
  },
  {
   "cell_type": "markdown",
   "metadata": {
    "slideshow": {
     "slide_type": "subslide"
    }
   },
   "source": [
    "### Problem areas Identified  \n",
    "___  \n",
    "Solutions  \n",
    "- Problem 1:  \n",
    "    - Divide code into possible blocks, each corresponding to a specific area (such as branching, looping etc)    \n",
    "    - Use AI to generate code uniformly across all blocks, such that testing is done in a spiral manner  \n",
    "- Problem 2:  \n",
    "    - Implement solution as a subproblem of previous problem  \n",
    "        - Identify blocks that provided errors and generate code concenterating on that  \n",
    "    - Use Natural Language processing to generate code similar to erroneous code  "
   ]
  },
  {
   "cell_type": "markdown",
   "metadata": {
    "slideshow": {
     "slide_type": "slide"
    }
   },
   "source": [
    "### Current Implementations and corresponding problems  \n",
    "___ \n",
    "\n",
    "1. To solve a problem that involves the computer in understanding the piece of written text is a part of NLP (Natural Language Processing)    \n",
    "2. Usually build solutions for AI/ML on the shoulders of existing solutions (Never building from scratch because of extensive data requirement)  \n",
    "3. All current solutions cater to human communication languages like English/ French/ German  \n",
    "4. Developing system to work with code not easy, takes time!"
   ]
  },
  {
   "cell_type": "markdown",
   "metadata": {
    "slideshow": {
     "slide_type": "slide"
    }
   },
   "source": [
    "### Problem 1: Generating code to match exhaustive testing  \n",
    "___  \n",
    "Code in below cells tries to mimic basic abstract behaviour of proposed algorithm  "
   ]
  },
  {
   "cell_type": "code",
   "execution_count": 5,
   "metadata": {
    "slideshow": {
     "slide_type": "subslide"
    }
   },
   "outputs": [],
   "source": [
    "import tensorflow as tf\n",
    "from tensorflow import keras\n",
    "import numpy as np\n",
    "import pandas as pd"
   ]
  },
  {
   "cell_type": "code",
   "execution_count": 38,
   "metadata": {
    "slideshow": {
     "slide_type": "subslide"
    }
   },
   "outputs": [],
   "source": [
    "blocks = np.array([0,1,2,3,4])\n",
    "\n",
    "#training_x1 = np.random.choice(blocks, size = (10000,50), p=[0.2, 0.2, 0.2, 0.2, 0.2])\n",
    "training_x2 = np.random.choice(blocks, size = (10000,50), p=[0.5, 0.125, 0.125, 0.125, 0.125])\n",
    "training_x3 = np.random.choice(blocks, size = (10000,50), p=[0.125, 0.5, 0.125, 0.125, 0.125])\n",
    "training_x4 = np.random.choice(blocks, size = (10000,50), p=[0.125, 0.125, 0.5, 0.125, 0.125])\n",
    "training_x5 = np.random.choice(blocks, size = (10000,50), p=[0.125, 0.125, 0.125, 0.5, 0.125])\n",
    "training_x6 = np.random.choice(blocks, size = (10000,50), p=[0.125, 0.125, 0.125, 0.125, 0.5])\n",
    "\n",
    "#training_y1 = np.random.choice([0,1,2,3,4],size=(10000,1),p=[0.2, 0.2, 0.2, 0.2, 0.2])\n",
    "training_y2 = np.random.choice([0,1,2,3,4],size=(10000,1),p=[1, 0, 0, 0, 0])\n",
    "training_y3 = np.random.choice([0,1,2,3,4],size=(10000,1),p=[0, 1, 0, 0, 0])\n",
    "training_y4 = np.random.choice([0,1,2,3,4],size=(10000,1),p=[0, 0, 1, 0, 0])\n",
    "training_y5 = np.random.choice([0,1,2,3,4],size=(10000,1),p=[0, 0, 0, 1, 0])\n",
    "training_y6 = np.random.choice([0,1,2,3,4],size=(10000,1),p=[0, 0, 0, 0, 1])\n"
   ]
  },
  {
   "cell_type": "code",
   "execution_count": 73,
   "metadata": {
    "slideshow": {
     "slide_type": "subslide"
    }
   },
   "outputs": [],
   "source": [
    "train_x = np.concatenate((training_x2,training_x3,training_x4,training_x5,training_x6), axis=0)\n",
    "train_y = np.concatenate((training_y2,training_y3,training_y4,training_y5,training_y6), axis=0)\n",
    "\n",
    "train_x.shape = (50000,50,1)\n",
    "train_y.shape = (50000,1)"
   ]
  },
  {
   "cell_type": "code",
   "execution_count": 74,
   "metadata": {
    "slideshow": {
     "slide_type": "subslide"
    }
   },
   "outputs": [
    {
     "name": "stdout",
     "output_type": "stream",
     "text": [
      "Epoch 1/10\n",
      "1563/1563 [==============================] - 28s 18ms/step - loss: 0.9010 - accuracy: 0.6040\n",
      "Epoch 2/10\n",
      "1563/1563 [==============================] - 29s 18ms/step - loss: 0.7244 - accuracy: 0.7128\n",
      "Epoch 3/10\n",
      "1563/1563 [==============================] - 28s 18ms/step - loss: 0.5709 - accuracy: 0.7891\n",
      "Epoch 4/10\n",
      "1563/1563 [==============================] - 27s 18ms/step - loss: 0.6748 - accuracy: 0.7319\n",
      "Epoch 5/10\n",
      "1563/1563 [==============================] - 28s 18ms/step - loss: 0.5646 - accuracy: 0.7530\n",
      "Epoch 6/10\n",
      "1563/1563 [==============================] - 28s 18ms/step - loss: 0.4612 - accuracy: 0.8038\n",
      "Epoch 7/10\n",
      "1563/1563 [==============================] - 28s 18ms/step - loss: 0.8204 - accuracy: 0.6441\n",
      "Epoch 8/10\n",
      "1563/1563 [==============================] - 30s 19ms/step - loss: 0.5230 - accuracy: 0.7855\n",
      "Epoch 9/10\n",
      "1563/1563 [==============================] - 29s 19ms/step - loss: 0.3388 - accuracy: 0.8740\n",
      "Epoch 10/10\n",
      "1563/1563 [==============================] - 29s 19ms/step - loss: 0.3587 - accuracy: 0.8705\n"
     ]
    },
    {
     "data": {
      "text/plain": [
       "<tensorflow.python.keras.callbacks.History at 0x144610390>"
      ]
     },
     "execution_count": 74,
     "metadata": {},
     "output_type": "execute_result"
    }
   ],
   "source": [
    "model1c = tf.keras.models.Sequential([\n",
    "    tf.keras.layers.SimpleRNN(units=20,return_sequences=True,input_shape=[None,1]),\n",
    "    tf.keras.layers.SimpleRNN(units=20),\n",
    "    tf.keras.layers.Dense(units=5,activation=\"softmax\")\n",
    "])\n",
    "model1c.compile(loss=\"sparse_categorical_crossentropy\",optimizer=\"adam\",metrics=['accuracy'])\n",
    "model1c.fit(train_x,train_y,epochs=10,verbose=1)"
   ]
  },
  {
   "cell_type": "code",
   "execution_count": 96,
   "metadata": {
    "slideshow": {
     "slide_type": "subslide"
    }
   },
   "outputs": [
    {
     "name": "stdout",
     "output_type": "stream",
     "text": [
      "[[[1]\n",
      "  [2]\n",
      "  [3]\n",
      "  [0]\n",
      "  [0]\n",
      "  [0]\n",
      "  [4]\n",
      "  [0]\n",
      "  [4]\n",
      "  [1]\n",
      "  [4]\n",
      "  [2]\n",
      "  [0]\n",
      "  [4]\n",
      "  [1]\n",
      "  [3]\n",
      "  [2]\n",
      "  [2]\n",
      "  [1]\n",
      "  [4]\n",
      "  [0]\n",
      "  [4]\n",
      "  [1]\n",
      "  [4]\n",
      "  [1]\n",
      "  [4]\n",
      "  [1]\n",
      "  [4]\n",
      "  [1]\n",
      "  [3]\n",
      "  [2]\n",
      "  [2]\n",
      "  [1]\n",
      "  [4]\n",
      "  [1]\n",
      "  [4]\n",
      "  [1]\n",
      "  [0]\n",
      "  [4]\n",
      "  [3]\n",
      "  [2]\n",
      "  [2]\n",
      "  [0]\n",
      "  [4]\n",
      "  [1]\n",
      "  [4]\n",
      "  [1]\n",
      "  [4]\n",
      "  [1]\n",
      "  [4]\n",
      "  [1]\n",
      "  [2]\n",
      "  [2]]]\n"
     ]
    }
   ],
   "source": [
    "import os\n",
    "os.environ['TF_CPP_MIN_LOG_LEVEL'] = '3' \n",
    "x = np.array([1,2,3])\n",
    "x.shape = (1,3,1)\n",
    "for i in range(50):\n",
    "    y = np.argmin(model1c.predict(x),axis=-1)\n",
    "    y.shape = (1,1,1)\n",
    "    x = np.append(x,y,axis=1)\n",
    "print(x)"
   ]
  },
  {
   "cell_type": "markdown",
   "metadata": {
    "slideshow": {
     "slide_type": "subslide"
    }
   },
   "source": [
    "### Problem 1: Generating code to match exhaustive testing  \n",
    "___  \n",
    "More fine grained control can be obtained by using blocks as well as sub-blocks. \n",
    "For example, block 1 represent branch instructions. Then, we can also assign sub-blocks such as 1.1, 1.2, 1.3, ... each representing a different type of branch instruction  \n",
    "We can also maintain a modular model, in which the above program can be perinially run and will output test programs at fixed intervals, each an increment of the previous output...  "
   ]
  },
  {
   "cell_type": "markdown",
   "metadata": {
    "slideshow": {
     "slide_type": "slide"
    }
   },
   "source": [
    "### Problem 2: Generating code, similar to one that throws errors  \n",
    "___  \n",
    "Key Point to note from the implementation of the previous solution  \n",
    "`training_x2 = np.random.choice(blocks, size = (10000,50), p=[0.5, 0.125, 0.125, 0.125, 0.125])`  \n",
    "- When given a set of blocks / sub-blocks, then we can decide, what percentage of each block should be present in the output depending on whether, the block provided an error or not while running.  \n",
    "- If we feel that a particular 'sequence of blocks' seem to throw errors, we can define the sequence as a new individual block and work from there.  \n"
   ]
  },
  {
   "cell_type": "markdown",
   "metadata": {
    "slideshow": {
     "slide_type": "slide"
    }
   },
   "source": [
    "# Problems/ Areas where I need help...  \n",
    "- Some help in identifying and segregating the blocks and the sub-blocks  \n",
    "    - Ideas to help maintain the code to be modular at all times  \n",
    "- Idea on how to limit the size of the program as by this algorithm, the output program size keeps growing.  "
   ]
  }
 ],
 "metadata": {
  "celltoolbar": "Slideshow",
  "kernelspec": {
   "display_name": "Python 3",
   "language": "python",
   "name": "python3"
  },
  "language_info": {
   "codemirror_mode": {
    "name": "ipython",
    "version": 3
   },
   "file_extension": ".py",
   "mimetype": "text/x-python",
   "name": "python",
   "nbconvert_exporter": "python",
   "pygments_lexer": "ipython3",
   "version": "3.6.10"
  }
 },
 "nbformat": 4,
 "nbformat_minor": 4
}
